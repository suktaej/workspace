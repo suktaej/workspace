{
 "cells": [
  {
   "cell_type": "code",
   "execution_count": 4,
   "id": "935d1f69-a26b-4152-bf54-5caffaa0c385",
   "metadata": {},
   "outputs": [
    {
     "data": {
      "text/plain": [
       "'hello'"
      ]
     },
     "execution_count": 4,
     "metadata": {},
     "output_type": "execute_result"
    }
   ],
   "source": [
    "def solution(letter):\n",
    "    answer = ''\n",
    "    morse = { \n",
    "        '.-':'a','-...':'b','-.-.':'c','-..':'d','.':'e','..-.':'f',\n",
    "        '--.':'g','....':'h','..':'i','.---':'j','-.-':'k','.-..':'l',\n",
    "        '--':'m','-.':'n','---':'o','.--.':'p','--.-':'q','.-.':'r',\n",
    "        '...':'s','-':'t','..-':'u','...-':'v','.--':'w','-..-':'x',\n",
    "        '-.--':'y','--..':'z'\n",
    "    }\n",
    "    letter = letter.split()\n",
    "    for i in letter:\n",
    "        if i in morse:\n",
    "            answer+=morse[i]\n",
    "    return answer\n",
    "\n",
    "solution(\".... . .-.. .-.. ---\"\t)"
   ]
  },
  {
   "cell_type": "code",
   "execution_count": 7,
   "id": "fedbbe58-eed1-4e35-b1e2-99b5b4f69b3e",
   "metadata": {},
   "outputs": [
    {
     "data": {
      "text/plain": [
       "20"
      ]
     },
     "execution_count": 7,
     "metadata": {},
     "output_type": "execute_result"
    }
   ],
   "source": [
    "def solution(s):\n",
    "    answer = 0\n",
    "    sp = s.split()\n",
    "    for i in range(len(sp)):\n",
    "        if sp[i] == 'Z':\n",
    "            answer = answer - int(sp[i-1])\n",
    "        else:\n",
    "            answer += int(sp[i])\n",
    "    return answer\n",
    "\n",
    "solution(\"10 20 Z 10\")"
   ]
  },
  {
   "cell_type": "code",
   "execution_count": 8,
   "id": "f160a7bd-2b16-42c9-a70b-844ef0a74c5b",
   "metadata": {},
   "outputs": [
    {
     "data": {
      "text/plain": [
       "[2, 4, 5, 10, 25]"
      ]
     },
     "execution_count": 8,
     "metadata": {},
     "output_type": "execute_result"
    }
   ],
   "source": [
    "def solution(n):\n",
    "    answer = []\n",
    "    for i in range(2,n+1):\n",
    "        if n==1:\n",
    "            break\n",
    "            \n",
    "        if n%i==0:\n",
    "            if i not in answer:\n",
    "                answer.append(i)\n",
    "            n=n//i\n",
    "            i=2\n",
    "    return answer\n",
    "\n",
    "solution(10000)"
   ]
  },
  {
   "cell_type": "code",
   "execution_count": 14,
   "id": "d1d45bd7-f795-45c2-8144-9acce314ffdd",
   "metadata": {},
   "outputs": [
    {
     "data": {
      "text/plain": [
       "['a', 'd', '5']"
      ]
     },
     "execution_count": 14,
     "metadata": {},
     "output_type": "execute_result"
    }
   ],
   "source": [
    "def solution(my_str, n):\n",
    "    answer = []\n",
    "    for i in range(0,len(my_str),int(n)):\n",
    "#        answer.append(my_str[i:i+int(n)])\n",
    "        answer.append(my_str[i])\n",
    "    return answer\n",
    "\n",
    "solution(\"abc1Addfggg4556b\",\"6\")"
   ]
  },
  {
   "cell_type": "code",
   "execution_count": 20,
   "id": "a55827bd-805b-46f8-9a1e-6c1134b12c85",
   "metadata": {},
   "outputs": [
    {
     "name": "stdout",
     "output_type": "stream",
     "text": [
      "1\n",
      "1\n",
      "2\n"
     ]
    }
   ],
   "source": [
    "def solution(numbers, k):\n",
    "    idx = 0\n",
    "    while len(numbers) > 1:\n",
    "        idx = (idx + k - 1) % len(numbers)\n",
    "        numbers.pop(idx)\n",
    "    return numbers[0]\n",
    "\n",
    "# Test cases\n",
    "print(solution([1, 2, 3, 4], 2))  # 기댓값: 3\n",
    "print(solution([1, 2, 3, 4, 5, 6], 5))  # 기댓값: 3\n",
    "print(solution([1, 2, 3], 3))  # 기댓값: 2"
   ]
  },
  {
   "cell_type": "code",
   "execution_count": 19,
   "id": "720c4ec0-6301-44ed-b970-9efed41a13fb",
   "metadata": {},
   "outputs": [
    {
     "data": {
      "text/plain": [
       "123456789"
      ]
     },
     "execution_count": 19,
     "metadata": {},
     "output_type": "execute_result"
    }
   ],
   "source": [
    "def solution(numbers):\n",
    "    digit = {\"zero\":'0', \"one\":'1', \"two\":'2', \"three\":'3', \"four\":'4', \"five\":'5', \"six\":'6', \"seven\":'7', \"eight\":'8', \"nine\":'9'}\n",
    "    for i in digit.keys():\n",
    "            numbers = numbers.replace(i,digit[i])\n",
    "    return int(numbers)\n",
    "\n",
    "solution(\"onetwothreefourfivesixseveneightnine\")"
   ]
  },
  {
   "cell_type": "code",
   "execution_count": 22,
   "id": "2c621a8d-1631-4e78-92a5-1f43964ca3e3",
   "metadata": {},
   "outputs": [
    {
     "name": "stdout",
     "output_type": "stream",
     "text": [
      "None\n"
     ]
    }
   ],
   "source": [
    "def solution(a, b):\n",
    "    answer = 0\n",
    "    for i in range(1,max(a,b),-1):\n",
    "        if a%i==0 and b%i==0:\n",
    "            if b%2==0 or b%5==0:\n",
    "                return 1\n",
    "            else:\n",
    "                return 2\n",
    "print(solution(7, 20))"
   ]
  },
  {
   "cell_type": "code",
   "execution_count": 23,
   "id": "eacffd7b-755a-4511-8095-b97a55ccf45c",
   "metadata": {},
   "outputs": [
    {
     "name": "stdout",
     "output_type": "stream",
     "text": [
      "3\n"
     ]
    }
   ],
   "source": [
    "A='abc'\n",
    "print(len(A))"
   ]
  },
  {
   "cell_type": "code",
   "execution_count": 28,
   "id": "fb197ead-e704-44e9-adce-03b7c5bbc9a7",
   "metadata": {},
   "outputs": [
    {
     "name": "stdout",
     "output_type": "stream",
     "text": [
      "0x + 0\n"
     ]
    }
   ],
   "source": [
    "def solution(polynomial):\n",
    "    answer = ''\n",
    "    xdig = 0\n",
    "    dig = 0\n",
    "    tmp = polynomial.split()\n",
    "    for i in tmp:\n",
    "        if i[-1]=='x':\n",
    "            if i[:-1]=='':\n",
    "                xdig= 0\n",
    "            else:\n",
    "                xdig+=int(i[:-1])\n",
    "        elif i.isdigit==True:\n",
    "            dig+=int(i)\n",
    "            \n",
    "    return str(xdig)+'x + '+str(dig)\n",
    "\n",
    "print(solution(\"3x + 7 + x\"))"
   ]
  },
  {
   "cell_type": "code",
   "execution_count": 29,
   "id": "5e431ae5-fcae-4010-8f61-ec881366a657",
   "metadata": {},
   "outputs": [
    {
     "name": "stdout",
     "output_type": "stream",
     "text": [
      "A\n"
     ]
    }
   ],
   "source": [
    "print(chr(65))"
   ]
  },
  {
   "cell_type": "code",
   "execution_count": 31,
   "id": "f390e205-b3fb-43df-81e9-ea9e3e4abc70",
   "metadata": {},
   "outputs": [
    {
     "name": "stdout",
     "output_type": "stream",
     "text": [
      "    *\n",
      "   ***\n",
      "  *****\n",
      " *******\n",
      "*********\n"
     ]
    }
   ],
   "source": [
    "n = 5\n",
    "for i in range(n):\n",
    "    for j in range(n-1-i):\n",
    "        print(\" \",end='')\n",
    "    for k in range(2*i+1):\n",
    "        print('*',end='')\n",
    "    print()"
   ]
  },
  {
   "cell_type": "code",
   "execution_count": 32,
   "id": "f75a3f25-4c33-4fa9-9c3c-087754bfcd7d",
   "metadata": {},
   "outputs": [
    {
     "name": "stdin",
     "output_type": "stream",
     "text": [
      " 33\n"
     ]
    },
    {
     "name": "stdout",
     "output_type": "stream",
     "text": [
      "All common measure of 33:1,3,11,33,"
     ]
    }
   ],
   "source": [
    "n = int(input())\n",
    "print(f\"All common measure of {n}:\",end='')\n",
    "for i in range(1,n+1):\n",
    "    if n%i==0:\n",
    "        print(i,end=',')"
   ]
  },
  {
   "cell_type": "code",
   "execution_count": null,
   "id": "f0bbbaaf-fe85-45df-b858-375f5d2f8ec9",
   "metadata": {},
   "outputs": [],
   "source": []
  }
 ],
 "metadata": {
  "kernelspec": {
   "display_name": "Python 3 (ipykernel)",
   "language": "python",
   "name": "python3"
  },
  "language_info": {
   "codemirror_mode": {
    "name": "ipython",
    "version": 3
   },
   "file_extension": ".py",
   "mimetype": "text/x-python",
   "name": "python",
   "nbconvert_exporter": "python",
   "pygments_lexer": "ipython3",
   "version": "3.11.6"
  }
 },
 "nbformat": 4,
 "nbformat_minor": 5
}
