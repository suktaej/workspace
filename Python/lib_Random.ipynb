{
 "cells": [
  {
   "cell_type": "code",
   "execution_count": 1,
   "id": "c433b9bc-676f-4f21-a0e4-ba134291717d",
   "metadata": {},
   "outputs": [],
   "source": [
    "import random as rd"
   ]
  },
  {
   "cell_type": "code",
   "execution_count": 16,
   "id": "af6b7913-4259-4316-85cb-56a94675cd71",
   "metadata": {},
   "outputs": [
    {
     "name": "stdout",
     "output_type": "stream",
     "text": [
      "0.3489042830910699\n",
      "0.008682824917975895\n",
      "0.35430281584653955\n"
     ]
    }
   ],
   "source": [
    "rd.seed()\n",
    "print(rd.random())\n",
    "print(rd.random())\n",
    "print(rd.random())"
   ]
  },
  {
   "cell_type": "code",
   "execution_count": 20,
   "id": "d13aff3f-9286-4033-9f72-2298557f91df",
   "metadata": {},
   "outputs": [
    {
     "name": "stdout",
     "output_type": "stream",
     "text": [
      "3\n",
      "5\n",
      "3\n",
      "10\n"
     ]
    }
   ],
   "source": [
    "print(rd.randrange(10))\n",
    "print(rd.randrange(1,10))\n",
    "print(rd.randrange(1,10,2))\n",
    "\n",
    "print(rd.randint(5,10))"
   ]
  },
  {
   "cell_type": "code",
   "execution_count": 21,
   "id": "d6c7e829-28ec-4573-a5cf-0945396dbad7",
   "metadata": {},
   "outputs": [],
   "source": [
    "li=[1,2,3,4,5]\n",
    "tu=(10,20,30,40,50)\n",
    "tx='abcde'"
   ]
  },
  {
   "cell_type": "code",
   "execution_count": 33,
   "id": "97684b24-4759-45bb-bf37-a295a0a3f749",
   "metadata": {},
   "outputs": [
    {
     "name": "stdout",
     "output_type": "stream",
     "text": [
      "4\n",
      "40\n",
      "a\n",
      "[4, 1]\n",
      "[20, 10]\n",
      "['b', 'e', 'c']\n",
      "\n",
      "[2, 4]\n",
      "[30, 10]\n",
      "['c', 'e', 'a']\n",
      "\n",
      "[1, 1]\n",
      "[50, 30]\n",
      "['a', 'e', 'd']\n",
      "\n",
      "[5, 4, 3, 1, 2]\n"
     ]
    }
   ],
   "source": [
    "print(rd.choice(li))\n",
    "print(rd.choice(tu))\n",
    "print(rd.choice(tx))\n",
    "\n",
    "print(rd.choices(li,k=2))\n",
    "print(rd.choices(tu,k=2))\n",
    "print(rd.choices(tx,k=3))\n",
    "print()\n",
    "\n",
    "print(rd.sample(li,k=2))\n",
    "print(rd.sample(tu,k=2))\n",
    "print(rd.sample(tx,k=3))\n",
    "print()\n",
    "\n",
    "print(rd.choices(li,k=2, weights=[5,1,1,1,1]))\n",
    "print(rd.choices(tu,k=2, weights=[5,1,1,1,1]))\n",
    "print(rd.choices(tx,k=3, weights=[5,1,1,1,1]))\n",
    "print()\n",
    "\n",
    "rd.shuffle(li)\n",
    "print(li)"
   ]
  },
  {
   "cell_type": "code",
   "execution_count": 39,
   "id": "92a73c60-f305-4207-9ce4-1faa10a259e1",
   "metadata": {},
   "outputs": [
    {
     "name": "stdout",
     "output_type": "stream",
     "text": [
      "[['A', 4], ['C', 3], ['D', 2], ['B', 4], ['A', 2], ['C', 2], ['A', 3], ['B', 1], ['A', 1], ['D', 1], ['B', 2], ['C', 1], ['D', 3], ['B', 3], ['D', 4], ['C', 4]]\n"
     ]
    }
   ],
   "source": [
    "def deck():\n",
    "    st=['A','B','C','D']\n",
    "    nu=[1,2,3,4]\n",
    "    deck = [[sti,nui] for sti in st for nui in nu]\n",
    "    rd.shuffle(deck)\n",
    "    return deck\n",
    "\n",
    "print(deck())"
   ]
  },
  {
   "cell_type": "code",
   "execution_count": null,
   "id": "6c0624c9-9094-46ba-bea9-019f3ba2ccc7",
   "metadata": {},
   "outputs": [],
   "source": []
  }
 ],
 "metadata": {
  "kernelspec": {
   "display_name": "Python 3 (ipykernel)",
   "language": "python",
   "name": "python3"
  },
  "language_info": {
   "codemirror_mode": {
    "name": "ipython",
    "version": 3
   },
   "file_extension": ".py",
   "mimetype": "text/x-python",
   "name": "python",
   "nbconvert_exporter": "python",
   "pygments_lexer": "ipython3",
   "version": "3.11.6"
  }
 },
 "nbformat": 4,
 "nbformat_minor": 5
}
