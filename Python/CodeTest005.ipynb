{
 "cells": [
  {
   "cell_type": "code",
   "execution_count": 5,
   "id": "3c0cd323-ec3b-4b28-a20a-35c5cfc67b7b",
   "metadata": {},
   "outputs": [
    {
     "name": "stdout",
     "output_type": "stream",
     "text": [
      "My name is John.\n",
      "My name is Kim.\n",
      "My ID is 1.\n"
     ]
    }
   ],
   "source": [
    "class Person:\n",
    "    name=\"\"\n",
    "    def __init__(self, name):\n",
    "        self.name = name\n",
    "    def printName(self):\n",
    "        print(f'My name is {self.name}.')\n",
    "\n",
    "class Student(Person):\n",
    "    def __init__(self,name,stuid):\n",
    "        super().__init__(name)\n",
    "        self.stuid = stuid\n",
    "    def printid(self):\n",
    "        print(f'My ID is {self.stuid}.')\n",
    "\n",
    "p1 = Person('John')\n",
    "p2 = Student('Kim',1)\n",
    "#p1.name = \"John\"\n",
    "p1.printName()\n",
    "p2.printName()\n",
    "p2.printid()"
   ]
  },
  {
   "cell_type": "code",
   "execution_count": 14,
   "id": "83bba06e-055f-4af2-9ead-aafa77d8153f",
   "metadata": {},
   "outputs": [
    {
     "name": "stdout",
     "output_type": "stream",
     "text": [
      "30\n",
      "10\n",
      "15\n"
     ]
    }
   ],
   "source": [
    "def app(func,arg1,arg2):\n",
    "    return func(arg1, arg2)\n",
    "\n",
    "result = app(lambda x, y: x*y, 5,6)\n",
    "\n",
    "def createmul(factor):\n",
    "    return lambda x: x * factor\n",
    "\n",
    "double = createmul(2)\n",
    "triple = createmul(3)\n",
    "\n",
    "print(result)\n",
    "print(double(5))\n",
    "print(triple(5))"
   ]
  },
  {
   "cell_type": "code",
   "execution_count": 16,
   "id": "8d234fb1-7dec-43d2-bdfb-014b52666675",
   "metadata": {},
   "outputs": [
    {
     "name": "stdout",
     "output_type": "stream",
     "text": [
      "index:0 number:1\n",
      "index:1 number:3\n",
      "index:2 number:5\n",
      "index:3 number:7\n",
      "index:4 number:9\n"
     ]
    }
   ],
   "source": [
    "numbers = [1,3,5,7,9]\n",
    "\n",
    "for index, number in enumerate(numbers):\n",
    "    print(f'index:{index} number:{number}')"
   ]
  },
  {
   "cell_type": "code",
   "execution_count": 20,
   "id": "5cfe3639-1361-4bcf-9019-dfafe09c2eb3",
   "metadata": {},
   "outputs": [
    {
     "name": "stdout",
     "output_type": "stream",
     "text": [
      "key:name, value:John\n",
      "key:age, value:30\n",
      "key:city, value:Seoul\n",
      "\n",
      "index:0, key:name, value:John\n",
      "index:1, key:age, value:30\n",
      "index:2, key:city, value:Seoul\n"
     ]
    }
   ],
   "source": [
    "dic = {'name':'John', 'age':30, 'city':'Seoul'}\n",
    "for key in dic:\n",
    "    print(f'key:{key}, value:{dic[key]}')\n",
    "print()\n",
    "for index, key in enumerate(dic):\n",
    "    print(f'index:{index}, key:{key}, value:{dic[key]}')"
   ]
  },
  {
   "cell_type": "code",
   "execution_count": 30,
   "id": "df36bc87-99c6-4570-a4ad-87a11ee9bd6f",
   "metadata": {},
   "outputs": [
    {
     "name": "stdout",
     "output_type": "stream",
     "text": [
      "[1, 2, 3, 4, 5]\n",
      "1\n",
      "2\n",
      "3\n",
      "4\n",
      "5\n",
      "[2, 4, 6, 8, 10]\n"
     ]
    }
   ],
   "source": [
    "numbers = ['1','2','3','4','5']\n",
    "\n",
    "int_num =  list(map(int,numbers))\n",
    "print(int_num)\n",
    "\n",
    "map_num =  map(int,numbers)\n",
    "for i in map_num:\n",
    "    print(i)\n",
    "\n",
    "double_num = list(map(lambda x:2*x, int_num))\n",
    "print(double_num)"
   ]
  },
  {
   "cell_type": "code",
   "execution_count": 28,
   "id": "683fb5c2-325e-4417-8b37-5740765e7bde",
   "metadata": {},
   "outputs": [
    {
     "name": "stdout",
     "output_type": "stream",
     "text": [
      "number:1, string:a, boolean:True\n",
      "number:2, string:b, boolean:True\n",
      "number:3, string:c, boolean:False\n"
     ]
    }
   ],
   "source": [
    "numbers=[1,2,3]\n",
    "strings=['a','b','c']\n",
    "booleans=[True,True,False]\n",
    "\n",
    "for nu, st, bo in zip(numbers,strings,booleans):\n",
    "    print(f'number:{nu}, string:{st}, boolean:{bo}')"
   ]
  },
  {
   "cell_type": "code",
   "execution_count": 34,
   "id": "aec8e019-1f1d-420f-a50c-271d0ccd0d9c",
   "metadata": {},
   "outputs": [
    {
     "name": "stdout",
     "output_type": "stream",
     "text": [
      "[2, 4, 6, 8, 10]\n"
     ]
    }
   ],
   "source": [
    "numbers=[1,2,3,4,5,6,7,8,9,10]\n",
    "\n",
    "def is_even(number):\n",
    "    if number%2==0:\n",
    "        return True\n",
    "    else:\n",
    "        return False\n",
    "\n",
    "even_numbers=list(filter(is_even,numbers))\n",
    "'''\n",
    "even_numbers=[]\n",
    "\n",
    "for n in numbers:\n",
    "    if is_even(n):\n",
    "        even_numbers.append(n)\n",
    "'''\n",
    "print(even_numbers)"
   ]
  },
  {
   "cell_type": "code",
   "execution_count": null,
   "id": "25a06fcc-eb7b-4e3c-b83b-1e4ed1ed0489",
   "metadata": {},
   "outputs": [],
   "source": []
  }
 ],
 "metadata": {
  "kernelspec": {
   "display_name": "Python 3 (ipykernel)",
   "language": "python",
   "name": "python3"
  },
  "language_info": {
   "codemirror_mode": {
    "name": "ipython",
    "version": 3
   },
   "file_extension": ".py",
   "mimetype": "text/x-python",
   "name": "python",
   "nbconvert_exporter": "python",
   "pygments_lexer": "ipython3",
   "version": "3.11.6"
  }
 },
 "nbformat": 4,
 "nbformat_minor": 5
}
