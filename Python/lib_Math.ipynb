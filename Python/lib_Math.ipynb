{
 "cells": [
  {
   "cell_type": "code",
   "execution_count": 1,
   "id": "0d0bc5c4-4a74-49e2-8050-f6fe11b9f3c9",
   "metadata": {},
   "outputs": [],
   "source": [
    "import math"
   ]
  },
  {
   "cell_type": "code",
   "execution_count": 2,
   "id": "c897659f-99a2-4a4f-bd68-b20ae53b4b31",
   "metadata": {},
   "outputs": [
    {
     "name": "stdout",
     "output_type": "stream",
     "text": [
      "13\n",
      "12\n"
     ]
    }
   ],
   "source": [
    "print(math.ceil(12.3))\n",
    "print(math.floor(12.3))"
   ]
  },
  {
   "cell_type": "code",
   "execution_count": 4,
   "id": "b2b43216-362a-433d-9d4f-f28c1da638a6",
   "metadata": {},
   "outputs": [
    {
     "name": "stdout",
     "output_type": "stream",
     "text": [
      "3.0\n",
      "3.0\n",
      "3\n",
      "3.5\n"
     ]
    }
   ],
   "source": [
    "print(math.fabs(3))\n",
    "print(math.fabs(-3))\n",
    "print(abs(3))\n",
    "print(abs(-3.5))"
   ]
  },
  {
   "cell_type": "code",
   "execution_count": 23,
   "id": "c06bf3a3-daa5-41c8-9ddc-cf2277a3dc0d",
   "metadata": {},
   "outputs": [
    {
     "name": "stdout",
     "output_type": "stream",
     "text": [
      "120\n",
      "120\n",
      "120\n",
      "3.0\n",
      "3\n"
     ]
    }
   ],
   "source": [
    "print(math.factorial(5))\n",
    "\n",
    "def fact1(num):\n",
    "    if num==0:\n",
    "        return 1\n",
    "    else:\n",
    "        return num*fact1(num-1)\n",
    "print(fact1(5))\n",
    "\n",
    "def fact2(num):\n",
    "    total = 1\n",
    "    for i in range(num,0,-1):\n",
    "        total *= i\n",
    "    return total\n",
    "print(fact2(5))\n",
    "\n",
    "def com1(total,sel):\n",
    "    return fact1(total)/(fact1(total-sel)*fact1(sel))\n",
    "print(com1(3,2))\n",
    "\n",
    "print(math.comb(3,2))"
   ]
  },
  {
   "cell_type": "code",
   "execution_count": 8,
   "id": "060600ec-d9cd-405b-a1d7-81eb6f7566ea",
   "metadata": {},
   "outputs": [
    {
     "name": "stdout",
     "output_type": "stream",
     "text": [
      "2.6457513110645907\n",
      "3.0\n"
     ]
    }
   ],
   "source": [
    "print(math.sqrt(7))\n",
    "print(math.sqrt(9))"
   ]
  },
  {
   "cell_type": "code",
   "execution_count": 11,
   "id": "1a189df2-96c0-46d9-9fa7-e9b15534ec60",
   "metadata": {},
   "outputs": [
    {
     "name": "stdout",
     "output_type": "stream",
     "text": [
      "2.8284271247461903\n",
      "1.4142135623730951\n",
      "1.7320508075688772\n"
     ]
    }
   ],
   "source": [
    "print(math.dist([0,0],[2,2]))\n",
    "print(math.dist([0,0],[1,1]))\n",
    "print(math.dist([0,0,0],[1,1,1]))"
   ]
  },
  {
   "cell_type": "code",
   "execution_count": 18,
   "id": "f11aee23-e308-496b-a51e-5cce7dedce6a",
   "metadata": {},
   "outputs": [
    {
     "name": "stdout",
     "output_type": "stream",
     "text": [
      "6\n",
      "6\n",
      "6\n"
     ]
    }
   ],
   "source": [
    "print(math.gcd(120,168,78))\n",
    "\n",
    "def gcd1(n1,n2,n3):\n",
    "    for i in range(min(n1,n2,n3),0,-1):\n",
    "        if n1%i==0 and n2%i==0 and n3%i==0:\n",
    "            return i\n",
    "print(gcd1(120,168,78))\n",
    "\n",
    "def gcd2(a,b):\n",
    "    while b:\n",
    "        a, b = b, a%b\n",
    "    return a\n",
    "\n",
    "def multiArg_gcd2(*args):\n",
    "    from functools import reduce\n",
    "    return reduce(gcd2, args)\n",
    "print(multiArg_gcd2(120,168,78))\n",
    "\n",
    "def lcm(a,b):\n",
    "    return a*b//gcd2(a,b)\n",
    "\n",
    "def multiArg_lcm(*args):\n",
    "    from functools import reduce\n",
    "    return reduce(lcm, args)"
   ]
  },
  {
   "cell_type": "code",
   "execution_count": null,
   "id": "f9974f3e-31a7-47db-ab06-9f7586fdcf53",
   "metadata": {},
   "outputs": [],
   "source": []
  }
 ],
 "metadata": {
  "kernelspec": {
   "display_name": "Python 3 (ipykernel)",
   "language": "python",
   "name": "python3"
  },
  "language_info": {
   "codemirror_mode": {
    "name": "ipython",
    "version": 3
   },
   "file_extension": ".py",
   "mimetype": "text/x-python",
   "name": "python",
   "nbconvert_exporter": "python",
   "pygments_lexer": "ipython3",
   "version": "3.11.6"
  }
 },
 "nbformat": 4,
 "nbformat_minor": 5
}
