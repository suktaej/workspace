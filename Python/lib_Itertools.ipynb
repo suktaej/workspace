{
 "cells": [
  {
   "cell_type": "code",
   "execution_count": 1,
   "id": "40edce4f-6359-41a2-9ef2-9989a6335ae0",
   "metadata": {},
   "outputs": [],
   "source": [
    "from itertools import repeat, count, cycle"
   ]
  },
  {
   "cell_type": "code",
   "execution_count": 6,
   "id": "7feaa757-a014-406c-a27e-64a7f5f764a5",
   "metadata": {},
   "outputs": [
    {
     "name": "stdout",
     "output_type": "stream",
     "text": [
      "a a a a a "
     ]
    },
    {
     "ename": "StopIteration",
     "evalue": "",
     "output_type": "error",
     "traceback": [
      "\u001b[0;31m---------------------------------------------------------------------------\u001b[0m",
      "\u001b[0;31mStopIteration\u001b[0m                             Traceback (most recent call last)",
      "Cell \u001b[0;32mIn[6], line 7\u001b[0m\n\u001b[1;32m      4\u001b[0m rep4 \u001b[38;5;241m=\u001b[39m repeat(\u001b[38;5;124m'\u001b[39m\u001b[38;5;124ma\u001b[39m\u001b[38;5;124m'\u001b[39m,\u001b[38;5;241m5\u001b[39m)\n\u001b[1;32m      6\u001b[0m \u001b[38;5;28;01mfor\u001b[39;00m _ \u001b[38;5;129;01min\u001b[39;00m \u001b[38;5;28mrange\u001b[39m(\u001b[38;5;241m10\u001b[39m):\n\u001b[0;32m----> 7\u001b[0m     \u001b[38;5;28mprint\u001b[39m(\u001b[38;5;28;43mnext\u001b[39;49m\u001b[43m(\u001b[49m\u001b[43mrep4\u001b[49m\u001b[43m)\u001b[49m, end\u001b[38;5;241m=\u001b[39m\u001b[38;5;124m'\u001b[39m\u001b[38;5;124m \u001b[39m\u001b[38;5;124m'\u001b[39m)\n",
      "\u001b[0;31mStopIteration\u001b[0m: "
     ]
    }
   ],
   "source": [
    "rep1 = repeat([1,2,3])\n",
    "rep2 = repeat(1)\n",
    "rep3 = repeat('abc')\n",
    "rep4 = repeat('a',5)\n",
    "\n",
    "for _ in range(10):\n",
    "    print(next(rep4), end=' ')"
   ]
  },
  {
   "cell_type": "code",
   "execution_count": 12,
   "id": "ec3dd862-07d7-410b-aa08-dd9ac889a95c",
   "metadata": {},
   "outputs": [
    {
     "name": "stdout",
     "output_type": "stream",
     "text": [
      "10 12 14 16 18 20 22 24 26 28 30 32 34 36 38 40 42 44 46 48 50 52 54 56 58 60 62 64 66 68 70 72 74 76 78 80 82 84 86 88 90 92 94 96 98 100 102 104 106 108 110 112 114 116 118 120 122 124 126 128 130 132 134 136 138 140 142 144 146 148 150 152 154 156 158 160 162 164 166 168 170 172 174 176 178 180 182 184 186 188 190 192 194 196 198 200 202 204 206 208 "
     ]
    }
   ],
   "source": [
    "cnt1 = count()\n",
    "cnt2 = count(10)\n",
    "cnt3 = count(10,2)\n",
    "cnt4 = count(10.0,0.1)\n",
    "\n",
    "for _ in range(100):\n",
    "    print(next(cnt3), end=' ')"
   ]
  },
  {
   "cell_type": "code",
   "execution_count": 15,
   "id": "33f9e701-2b67-4054-86e4-aaa97356c1b4",
   "metadata": {},
   "outputs": [
    {
     "name": "stdout",
     "output_type": "stream",
     "text": [
      "1 2 3 1 2 3 1 2 3 1 "
     ]
    }
   ],
   "source": [
    "cy1 = cycle('abc')\n",
    "cy2 = cycle([1,2,3])\n",
    "\n",
    "for _ in range(10):\n",
    "    print(next(cy2), end =' ')"
   ]
  },
  {
   "cell_type": "code",
   "execution_count": 16,
   "id": "cc0f7f8f-2423-4e85-9e4b-9cec16cb3876",
   "metadata": {},
   "outputs": [],
   "source": [
    "from itertools import product, permutations, combinations"
   ]
  },
  {
   "cell_type": "code",
   "execution_count": 21,
   "id": "17f882a1-7091-434c-9617-4bec660ac6c4",
   "metadata": {},
   "outputs": [
    {
     "name": "stdout",
     "output_type": "stream",
     "text": [
      "('a', 'b', 'c')\n",
      "('a', 'b', 'd')\n",
      "('a', 'c', 'b')\n",
      "('a', 'c', 'd')\n",
      "('a', 'd', 'b')\n",
      "('a', 'd', 'c')\n",
      "('b', 'a', 'c')\n",
      "('b', 'a', 'd')\n",
      "('b', 'c', 'a')\n",
      "('b', 'c', 'd')\n",
      "('b', 'd', 'a')\n",
      "('b', 'd', 'c')\n",
      "('c', 'a', 'b')\n",
      "('c', 'a', 'd')\n",
      "('c', 'b', 'a')\n",
      "('c', 'b', 'd')\n",
      "('c', 'd', 'a')\n",
      "('c', 'd', 'b')\n",
      "('d', 'a', 'b')\n",
      "('d', 'a', 'c')\n",
      "('d', 'b', 'a')\n",
      "('d', 'b', 'c')\n",
      "('d', 'c', 'a')\n",
      "('d', 'c', 'b')\n"
     ]
    }
   ],
   "source": [
    "iter1=product(['a','b','c','d'],[1,2])\n",
    "iter2=product(['a','b','c','d'],repeat=2)\n",
    "iter3=permutations(['a','b','c','d'],3)\n",
    "iter4=combinations(['a','b','c','d'],2)\n",
    "\n",
    "for i in iter3:\n",
    "    print(i)"
   ]
  },
  {
   "cell_type": "code",
   "execution_count": null,
   "id": "2a8ca410-daa5-48b4-b779-8a0edb488010",
   "metadata": {},
   "outputs": [],
   "source": []
  }
 ],
 "metadata": {
  "kernelspec": {
   "display_name": "Python 3 (ipykernel)",
   "language": "python",
   "name": "python3"
  },
  "language_info": {
   "codemirror_mode": {
    "name": "ipython",
    "version": 3
   },
   "file_extension": ".py",
   "mimetype": "text/x-python",
   "name": "python",
   "nbconvert_exporter": "python",
   "pygments_lexer": "ipython3",
   "version": "3.11.6"
  }
 },
 "nbformat": 4,
 "nbformat_minor": 5
}
