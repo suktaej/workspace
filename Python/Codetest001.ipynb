{
 "cells": [
  {
   "cell_type": "code",
   "execution_count": 1,
   "id": "95bc8a36-f05e-462d-b9b4-7dd2d674f2af",
   "metadata": {},
   "outputs": [
    {
     "data": {
      "text/plain": [
       "3"
      ]
     },
     "execution_count": 1,
     "metadata": {},
     "output_type": "execute_result"
    }
   ],
   "source": [
    "1+2"
   ]
  },
  {
   "cell_type": "code",
   "execution_count": 2,
   "id": "504989fa-9e10-4e45-8b77-0fd7f75c531a",
   "metadata": {},
   "outputs": [
    {
     "name": "stdout",
     "output_type": "stream",
     "text": [
      "2\n"
     ]
    }
   ],
   "source": [
    "a=2\n",
    "print(a)"
   ]
  },
  {
   "cell_type": "code",
   "execution_count": 3,
   "id": "1f403726-bab4-4c5a-aa9d-400c546b194f",
   "metadata": {},
   "outputs": [
    {
     "name": "stdout",
     "output_type": "stream",
     "text": [
      "big\n"
     ]
    }
   ],
   "source": [
    "if a>1:\n",
    "    print(\"big\")"
   ]
  },
  {
   "cell_type": "code",
   "execution_count": 14,
   "id": "204ed8a7-b26f-477d-af84-fd72a91c8777",
   "metadata": {},
   "outputs": [
    {
     "data": {
      "text/plain": [
       "'my age is 10 and have a three friends'"
      ]
     },
     "execution_count": 14,
     "metadata": {},
     "output_type": "execute_result"
    }
   ],
   "source": [
    "number = 10\n",
    "day = 'three'\n",
    "\"I ate {0} apples. so I was sick for {day_num} days\".format(number,day_num=day)\n",
    "f'my age is {number} and have a {day} friends'"
   ]
  },
  {
   "cell_type": "code",
   "execution_count": 10,
   "id": "9f512f11-1d67-4e51-b944-3d73e56f4b7d",
   "metadata": {},
   "outputs": [
    {
     "data": {
      "text/plain": [
       "'===(-_-)===       !!!'"
      ]
     },
     "execution_count": 10,
     "metadata": {},
     "output_type": "execute_result"
    }
   ],
   "source": [
    "\"{0:=^11}{1:>10}\".format(\"(-_-)\",\"!!!\")"
   ]
  },
  {
   "cell_type": "code",
   "execution_count": 11,
   "id": "b96edfb3-405e-43bd-9dad-eca6b9420f53",
   "metadata": {},
   "outputs": [
    {
     "data": {
      "text/plain": [
       "'        Hi'"
      ]
     },
     "execution_count": 11,
     "metadata": {},
     "output_type": "execute_result"
    }
   ],
   "source": [
    "\"%10s\"%\"Hi\""
   ]
  },
  {
   "cell_type": "code",
   "execution_count": 13,
   "id": "726bf72f-4dae-4e7c-ae23-aed9fee67016",
   "metadata": {},
   "outputs": [
    {
     "data": {
      "text/plain": [
       "'Hi                100'"
      ]
     },
     "execution_count": 13,
     "metadata": {},
     "output_type": "execute_result"
    }
   ],
   "source": [
    "\"%-10s %10d\"%(\"Hi\",100)"
   ]
  },
  {
   "cell_type": "code",
   "execution_count": 16,
   "id": "95068aaf-e4b5-4597-9a0c-4bc454d20844",
   "metadata": {},
   "outputs": [
    {
     "data": {
      "text/plain": [
       "'My name is Hong and age is 30'"
      ]
     },
     "execution_count": 16,
     "metadata": {},
     "output_type": "execute_result"
    }
   ],
   "source": [
    "dic1={'name':'Hong','age':30}\n",
    "f'My name is {dic1[\"name\"]} and age is {dic1[\"age\"]}'"
   ]
  },
  {
   "cell_type": "code",
   "execution_count": 24,
   "id": "69fbd00a-3585-4336-a3f8-ee4e129ffe3a",
   "metadata": {},
   "outputs": [
    {
     "data": {
      "text/plain": [
       "'!!!python!!!'"
      ]
     },
     "execution_count": 24,
     "metadata": {},
     "output_type": "execute_result"
    }
   ],
   "source": [
    "str1 = \"python\"\n",
    "f'{str1:!^12}'\n",
    "'{0:!^12}'.format(str1)"
   ]
  },
  {
   "cell_type": "code",
   "execution_count": 26,
   "id": "a1b641c1-87ce-4933-8ca3-3cb713e96a66",
   "metadata": {},
   "outputs": [
    {
     "data": {
      "text/plain": [
       "'Hello Hello Hello'"
      ]
     },
     "execution_count": 26,
     "metadata": {},
     "output_type": "execute_result"
    }
   ],
   "source": [
    "a = \"asdf asdf asdf\"\n",
    "a.replace(\"asdf\",\"Hello\")"
   ]
  },
  {
   "cell_type": "code",
   "execution_count": 35,
   "id": "ea1d532b-5283-4b7b-913f-7bb38a50a3bd",
   "metadata": {},
   "outputs": [
    {
     "data": {
      "text/plain": [
       "[9, 4, 3, 2, 1]"
      ]
     },
     "execution_count": 35,
     "metadata": {},
     "output_type": "execute_result"
    }
   ],
   "source": [
    "a = [4,1,2,3,9]\n",
    "a.sort(reverse=True)\n",
    "a"
   ]
  },
  {
   "cell_type": "code",
   "execution_count": 37,
   "id": "a98577c8-d6f1-4701-ab51-934325a8c81b",
   "metadata": {},
   "outputs": [
    {
     "data": {
      "text/plain": [
       "(1, 2, 3, 4)"
      ]
     },
     "execution_count": 37,
     "metadata": {},
     "output_type": "execute_result"
    }
   ],
   "source": [
    "t1 = (1,2,3)\n",
    "t2 = (4,)\n",
    "t3 = t1+t2\n",
    "t3"
   ]
  },
  {
   "cell_type": "code",
   "execution_count": 46,
   "id": "b257dfa6-d75e-4455-9a1d-c22103450ca9",
   "metadata": {},
   "outputs": [
    {
     "data": {
      "text/plain": [
       "'Nokey'"
      ]
     },
     "execution_count": 46,
     "metadata": {},
     "output_type": "execute_result"
    }
   ],
   "source": [
    "a = {'a':1,'b':2,'c':3}\n",
    "a['a']\n",
    "a.get('d','Nokey')"
   ]
  },
  {
   "cell_type": "code",
   "execution_count": 50,
   "id": "5aea1896-59d9-4dd5-8ffd-6272efc3c983",
   "metadata": {},
   "outputs": [
    {
     "name": "stdout",
     "output_type": "stream",
     "text": [
      "python life Clang Java\n"
     ]
    }
   ],
   "source": [
    "dic1 = {'name':'Hong','brith':1128,'age':30}\n",
    "a,b = ('python','life')\n",
    "(c,d) = 'Clang','Java'\n",
    "print(a,b,c,d)"
   ]
  },
  {
   "cell_type": "code",
   "execution_count": 51,
   "id": "07d44fd9-c419-4ed8-96e6-5a052dec780d",
   "metadata": {},
   "outputs": [
    {
     "data": {
      "text/plain": [
       "False"
      ]
     },
     "execution_count": 51,
     "metadata": {},
     "output_type": "execute_result"
    }
   ],
   "source": [
    "a=[1,2,3]\n",
    "b=[1,2,3]\n",
    "a is b"
   ]
  },
  {
   "cell_type": "code",
   "execution_count": 60,
   "id": "f2edbd76-adf6-4afa-8127-37a3c52403f9",
   "metadata": {},
   "outputs": [
    {
     "name": "stdout",
     "output_type": "stream",
     "text": [
      "total: 210 \n",
      "len: 3\n"
     ]
    },
    {
     "data": {
      "text/plain": [
       "70"
      ]
     },
     "execution_count": 60,
     "metadata": {},
     "output_type": "execute_result"
    }
   ],
   "source": [
    "point = [80,75,55]\n",
    "avg = sum(point)//len(point)\n",
    "print('total:',sum(point),'\\nlen:',len(point))\n",
    "avg"
   ]
  },
  {
   "cell_type": "code",
   "execution_count": 61,
   "id": "8df6c591-82dc-4506-a90b-d83cfddf245e",
   "metadata": {},
   "outputs": [
    {
     "name": "stdout",
     "output_type": "stream",
     "text": [
      "odd\n"
     ]
    }
   ],
   "source": [
    "num = 13\n",
    "if (num%2)==0:\n",
    "    print(\"even\")\n",
    "else:\n",
    "    print(\"odd\")"
   ]
  },
  {
   "cell_type": "code",
   "execution_count": 65,
   "id": "27750699-8517-45a4-b854-f6b46ccb3a81",
   "metadata": {},
   "outputs": [
    {
     "name": "stdout",
     "output_type": "stream",
     "text": [
      "19123456\n",
      "0987654\n"
     ]
    }
   ],
   "source": [
    "pin=\"123456-0987654\"\n",
    "yyyymmdd=str(19)+pin[0:6]\n",
    "num = pin[pin.find(\"-\")+1:]\n",
    "print(yyyymmdd)\n",
    "print(num)"
   ]
  },
  {
   "cell_type": "code",
   "execution_count": 69,
   "id": "69846bef-7546-4ed5-b63b-0e3198e41b09",
   "metadata": {},
   "outputs": [
    {
     "name": "stdout",
     "output_type": "stream",
     "text": [
      "a#b#c#d\n"
     ]
    }
   ],
   "source": [
    "a=\"a:b:c:d\"\n",
    "b=a.replace(\":\",\"#\")\n",
    "print(b)"
   ]
  },
  {
   "cell_type": "code",
   "execution_count": 73,
   "id": "251b6263-875b-4a54-bca4-46c3787ead16",
   "metadata": {},
   "outputs": [
    {
     "data": {
      "text/plain": [
       "[5, 4, 3, 2, 1]"
      ]
     },
     "execution_count": 73,
     "metadata": {},
     "output_type": "execute_result"
    }
   ],
   "source": [
    "a=[1,3,5,4,2]\n",
    "a.sort()\n",
    "a.reverse()\n",
    "a"
   ]
  },
  {
   "cell_type": "code",
   "execution_count": 77,
   "id": "5f846465-351a-4260-856c-756e976f8b32",
   "metadata": {},
   "outputs": [
    {
     "data": {
      "text/plain": [
       "'life is too short'"
      ]
     },
     "execution_count": 77,
     "metadata": {},
     "output_type": "execute_result"
    }
   ],
   "source": [
    "a=['life','is','too','short']\n",
    "result=\" \".join(a)\n",
    "result"
   ]
  },
  {
   "cell_type": "code",
   "execution_count": 81,
   "id": "fb739d46-0118-4f53-a23b-08a836d76a2c",
   "metadata": {},
   "outputs": [
    {
     "name": "stdout",
     "output_type": "stream",
     "text": [
      "(1, 2, 3, 4)\n"
     ]
    }
   ],
   "source": [
    "a=(1,2,3)\n",
    "a+=(4,)\n",
    "print(a)"
   ]
  },
  {
   "cell_type": "code",
   "execution_count": 95,
   "id": "61341910-c362-4a1f-bf82-6941dbd11925",
   "metadata": {},
   "outputs": [
    {
     "name": "stdout",
     "output_type": "stream",
     "text": [
      "name\n",
      "('a',)\n",
      "1\n",
      "('c', 'd')\n"
     ]
    },
    {
     "data": {
      "text/plain": [
       "('javascript', 'ruby')"
      ]
     },
     "execution_count": 95,
     "metadata": {},
     "output_type": "execute_result"
    }
   ],
   "source": [
    "a=dict()\n",
    "a['name']='python'\n",
    "a[('a',)]='clang'\n",
    "#a[[1]]='java'\n",
    "a[1]='rust'\n",
    "a[('c','d')]='javascript','ruby'\n",
    "\n",
    "a[('c','d')]"
   ]
  },
  {
   "cell_type": "code",
   "execution_count": 99,
   "id": "9da830e8-6055-42b9-b686-d937834086bd",
   "metadata": {},
   "outputs": [
    {
     "name": "stdout",
     "output_type": "stream",
     "text": [
      "{'A': 90, 'C': 70}\n",
      "80\n"
     ]
    }
   ],
   "source": [
    "a={'A':90,'B':80,'C':70}\n",
    "popresult=a.pop('B')\n",
    "print(a)\n",
    "print(popresult)"
   ]
  },
  {
   "cell_type": "code",
   "execution_count": 101,
   "id": "c74e12d8-7549-4aa9-b0ab-27c8bc81566e",
   "metadata": {},
   "outputs": [
    {
     "data": {
      "text/plain": [
       "[1, 2, 3, 4, 5]"
      ]
     },
     "execution_count": 101,
     "metadata": {},
     "output_type": "execute_result"
    }
   ],
   "source": [
    "a = [1,1,1,2,2,3,3,3,4,4,5]\n",
    "aSet=set(a)\n",
    "b=list(aSet)\n",
    "b"
   ]
  },
  {
   "cell_type": "code",
   "execution_count": 102,
   "id": "4642d9fc-c5f4-4319-bb9a-1231f3e92592",
   "metadata": {},
   "outputs": [
    {
     "data": {
      "text/plain": [
       "[4, 2, 3]"
      ]
     },
     "execution_count": 102,
     "metadata": {},
     "output_type": "execute_result"
    }
   ],
   "source": [
    "a=b=[1,2,3]\n",
    "a[0]=4\n",
    "b"
   ]
  },
  {
   "cell_type": "code",
   "execution_count": 106,
   "id": "245e807c-6744-40a9-b671-f6b6dcfac6b7",
   "metadata": {},
   "outputs": [
    {
     "name": "stdout",
     "output_type": "stream",
     "text": [
      "1\n",
      "2\n",
      "4\n",
      "5\n",
      "7\n",
      "8\n",
      "10\n"
     ]
    }
   ],
   "source": [
    "a=1\n",
    "while a<11:\n",
    "    if a%3!=0:\n",
    "        print(a)\n",
    "    a+=1"
   ]
  },
  {
   "cell_type": "code",
   "execution_count": 111,
   "id": "0c532c8b-5776-475e-bf67-722174bfa417",
   "metadata": {},
   "outputs": [
    {
     "data": {
      "text/plain": [
       "5050"
      ]
     },
     "execution_count": 111,
     "metadata": {},
     "output_type": "execute_result"
    }
   ],
   "source": [
    "result=0\n",
    "for i in range(101):\n",
    "    result+=i\n",
    "result"
   ]
  },
  {
   "cell_type": "code",
   "execution_count": 112,
   "id": "d7c9508c-d3b2-4965-acbe-cbbb5f5887b9",
   "metadata": {},
   "outputs": [
    {
     "data": {
      "text/plain": [
       "[2, 6, 10]"
      ]
     },
     "execution_count": 112,
     "metadata": {},
     "output_type": "execute_result"
    }
   ],
   "source": [
    "number=[1,2,3,4,5]\n",
    "result=[i*2 for i in number if i%2==1]\n",
    "result"
   ]
  },
  {
   "cell_type": "code",
   "execution_count": 152,
   "id": "6f47020f-9906-4933-9f4d-6f4e2d76bba1",
   "metadata": {},
   "outputs": [
    {
     "name": "stdout",
     "output_type": "stream",
     "text": [
      "{'a': 1}\n",
      "{'name': 'foo', 'age': 3}\n"
     ]
    }
   ],
   "source": [
    "def print_kwargs(**kwargs):\n",
    "    print(kwargs)\n",
    "\n",
    "print_kwargs(a=1)\n",
    "print_kwargs(name='foo',age=3)"
   ]
  },
  {
   "cell_type": "code",
   "execution_count": 126,
   "id": "655030ab-b274-4145-943c-0bd9778fe79a",
   "metadata": {},
   "outputs": [],
   "source": [
    "f=open(\"hello.txt\",'w')\n",
    "for i in range(1,11):\n",
    "    data = \"%d line\\n\" %i\n",
    "    f.write(data)\n",
    "f.close()"
   ]
  },
  {
   "cell_type": "code",
   "execution_count": 120,
   "id": "942e6e48-6f66-44a4-9eb4-34aadac8663d",
   "metadata": {},
   "outputs": [
    {
     "name": "stdout",
     "output_type": "stream",
     "text": [
      "1 line\n",
      "2 line\n",
      "3 line\n",
      "4 line\n",
      "5 line\n",
      "6 line\n",
      "7 line\n",
      "8 line\n",
      "9 line\n",
      "10 line\n"
     ]
    }
   ],
   "source": [
    "f=open(\"hello.txt\",'r')\n",
    "while True:\n",
    "    line = f.readline()\n",
    "    if not line: break\n",
    "    print(line.strip())\n",
    "f.close()"
   ]
  },
  {
   "cell_type": "code",
   "execution_count": 129,
   "id": "d0d620f3-10c0-450d-9a3a-2924e205208d",
   "metadata": {},
   "outputs": [
    {
     "name": "stdout",
     "output_type": "stream",
     "text": [
      "1 line\n",
      "\n",
      "2 line\n",
      "\n",
      "3 line\n",
      "\n"
     ]
    }
   ],
   "source": [
    "f=open(\"hello.txt\",'r')\n",
    "line = f.readline()\n",
    "print(line)\n",
    "line = f.readline()\n",
    "print(line)\n",
    "line = f.readline()\n",
    "print(line)\n",
    "f.close()\n"
   ]
  },
  {
   "cell_type": "code",
   "execution_count": 132,
   "id": "fc50c9ab-1dbe-49fa-9a6c-a247f3a57a66",
   "metadata": {},
   "outputs": [],
   "source": [
    "with open(\"hello.txt\",\"a\") as f:\n",
    "    f.write(\"11 line\")"
   ]
  },
  {
   "cell_type": "code",
   "execution_count": 133,
   "id": "dafe3d18-a9ca-4a58-80cd-b9b61957a813",
   "metadata": {},
   "outputs": [
    {
     "name": "stdout",
     "output_type": "stream",
     "text": [
      "-f\n",
      "/home/jovyan/.local/share/jupyter/runtime/kernel-df0e46b4-ab52-4177-8aeb-c195838c4746.json\n"
     ]
    }
   ],
   "source": [
    "import sys\n",
    "\n",
    "args= sys.argv[1:]\n",
    "for i in args:\n",
    "    print(i)"
   ]
  },
  {
   "cell_type": "code",
   "execution_count": 135,
   "id": "4f6e875d-5677-455c-87b1-1112c2d19bc0",
   "metadata": {},
   "outputs": [
    {
     "data": {
      "text/plain": [
       "False"
      ]
     },
     "execution_count": 135,
     "metadata": {},
     "output_type": "execute_result"
    }
   ],
   "source": [
    "def is_odd(number):\n",
    "    if number%2==0:\n",
    "        return True\n",
    "    else:\n",
    "        return False\n",
    "is_odd(3)\n",
    "#is_odd(4)"
   ]
  },
  {
   "cell_type": "code",
   "execution_count": 139,
   "id": "16662f9c-4699-43f2-bb76-a26196ca748b",
   "metadata": {},
   "outputs": [
    {
     "data": {
      "text/plain": [
       "3.0"
      ]
     },
     "execution_count": 139,
     "metadata": {},
     "output_type": "execute_result"
    }
   ],
   "source": [
    "def avg_number(*args):\n",
    "    result=0\n",
    "    for i in args:\n",
    "        result += i\n",
    "    return result/len(args)\n",
    "\n",
    "#avg_number(1,2)\n",
    "avg_number(1,2,3,4,5)"
   ]
  },
  {
   "cell_type": "code",
   "execution_count": 141,
   "id": "6a2a0559-c1ca-4ab9-b1d9-df7390c71b1c",
   "metadata": {},
   "outputs": [
    {
     "name": "stdin",
     "output_type": "stream",
     "text": [
      "num1: 3\n",
      "num2: 6\n"
     ]
    },
    {
     "name": "stdout",
     "output_type": "stream",
     "text": [
      "sum is 9\n"
     ]
    }
   ],
   "source": [
    "input1 = input(\"num1:\")\n",
    "input2 = input(\"num2:\")\n",
    "\n",
    "total = int(input1)+int(input2)\n",
    "print(\"sum is %s\" %total)"
   ]
  },
  {
   "cell_type": "code",
   "execution_count": 143,
   "id": "d548ba88-8b31-4606-bd91-067c8fc95054",
   "metadata": {},
   "outputs": [
    {
     "name": "stdout",
     "output_type": "stream",
     "text": [
      "Life is too short\n"
     ]
    }
   ],
   "source": [
    "f1 = open(\"test.txt\",'w')\n",
    "f1.write(\"Life is too short\")\n",
    "f1.close()\n",
    "\n",
    "f2 = open(\"test.txt\",'r')\n",
    "print(f2.read())\n",
    "f2.close()"
   ]
  },
  {
   "cell_type": "code",
   "execution_count": 145,
   "id": "64446aa8-1bb2-4f3f-a0ab-67af74deefb4",
   "metadata": {},
   "outputs": [
    {
     "name": "stdout",
     "output_type": "stream",
     "text": [
      "Life is too short\n"
     ]
    }
   ],
   "source": [
    "with open(\"test.txt\",\"r\") as f:\n",
    "    print(f.read())"
   ]
  },
  {
   "cell_type": "code",
   "execution_count": 149,
   "id": "9b75c6b5-4510-431b-827f-56d7430fdba4",
   "metadata": {},
   "outputs": [
    {
     "name": "stdin",
     "output_type": "stream",
     "text": [
      "text: line2\n"
     ]
    }
   ],
   "source": [
    "user_input = input(\"text:\")\n",
    "f = open('test.txt','a')\n",
    "f.write(user_input)\n",
    "f.write('\\n')\n",
    "f.close()"
   ]
  },
  {
   "cell_type": "code",
   "execution_count": 154,
   "id": "c08f5316-d87d-4c47-be06-8ce0d8a55add",
   "metadata": {},
   "outputs": [],
   "source": [
    "with open('test.txt','r') as f:\n",
    "    body = f.read()\n",
    "body = body.replace(\"line\",\"number\")\n",
    "with open('test.txt','w') as f2:\n",
    "    f2.write(body)"
   ]
  },
  {
   "cell_type": "code",
   "execution_count": null,
   "id": "c93ff701-6bed-4dc6-b8a2-b8f35408631c",
   "metadata": {},
   "outputs": [],
   "source": []
  }
 ],
 "metadata": {
  "kernelspec": {
   "display_name": "Python 3 (ipykernel)",
   "language": "python",
   "name": "python3"
  },
  "language_info": {
   "codemirror_mode": {
    "name": "ipython",
    "version": 3
   },
   "file_extension": ".py",
   "mimetype": "text/x-python",
   "name": "python",
   "nbconvert_exporter": "python",
   "pygments_lexer": "ipython3",
   "version": "3.11.6"
  }
 },
 "nbformat": 4,
 "nbformat_minor": 5
}
