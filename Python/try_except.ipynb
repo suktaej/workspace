{
 "cells": [
  {
   "cell_type": "code",
   "execution_count": 11,
   "id": "677eea53-40ef-42e5-81e5-1a19dbbb5408",
   "metadata": {},
   "outputs": [
    {
     "name": "stdout",
     "output_type": "stream",
     "text": [
      "list index out of range\n"
     ]
    }
   ],
   "source": [
    "try:\n",
    "    a=[1,2]\n",
    "    print(a[3])\n",
    "    4/0\n",
    "except ZeroDivisionError as e:\n",
    "    print(e)\n",
    "except IndexError as e:\n",
    "    print(e)"
   ]
  },
  {
   "cell_type": "code",
   "execution_count": 7,
   "id": "cce8a4bd-9698-4b70-9d47-886e3ee127b6",
   "metadata": {},
   "outputs": [
    {
     "name": "stdout",
     "output_type": "stream",
     "text": [
      "division by zero\n"
     ]
    }
   ],
   "source": [
    "try:\n",
    "    4/0\n",
    "except ZeroDivisionError as e:\n",
    "    print(e)"
   ]
  },
  {
   "cell_type": "code",
   "execution_count": 2,
   "id": "6d3ec71a-ac94-4921-8892-7659a3b11bbf",
   "metadata": {},
   "outputs": [],
   "source": [
    "try:\n",
    "    f = open('test02','w')\n",
    "finally:\n",
    "    f.close()"
   ]
  },
  {
   "cell_type": "code",
   "execution_count": 16,
   "id": "a0a46b2f-175c-4f76-8b93-5d6fef38583e",
   "metadata": {},
   "outputs": [
    {
     "name": "stdout",
     "output_type": "stream",
     "text": [
      "fast!\n"
     ]
    }
   ],
   "source": [
    "class Bird:\n",
    "    def fly(self):\n",
    "        raise NotImplementedError\n",
    "\n",
    "class Eagle(Bird):\n",
    "    def fly(self):\n",
    "        print(\"fast!\")\n",
    "\n",
    "eagle = Eagle()\n",
    "eagle.fly()"
   ]
  },
  {
   "cell_type": "code",
   "execution_count": 20,
   "id": "42888cd7-d47e-47be-9723-4877cba5dcf5",
   "metadata": {},
   "outputs": [
    {
     "name": "stdout",
     "output_type": "stream",
     "text": [
      "angle\n",
      "It doesn't allow alias\n"
     ]
    }
   ],
   "source": [
    "class MyError(Exception):\n",
    "    def __str__(self):\n",
    "        return \"It doesn't allow alias\"\n",
    "\n",
    "def say_nick(nick):\n",
    "    if nick == 'idiot':\n",
    "        raise MyError()\n",
    "    print(nick)\n",
    "\n",
    "try: \n",
    "    say_nick('angle')\n",
    "    say_nick('idiot')\n",
    "except MyError as e:\n",
    "    print(e)\n",
    "#    print(\"It doesn't allow alias\")"
   ]
  },
  {
   "cell_type": "code",
   "execution_count": null,
   "id": "899a7a66-a023-4c9a-b3de-4335ef3b52f8",
   "metadata": {},
   "outputs": [],
   "source": []
  }
 ],
 "metadata": {
  "kernelspec": {
   "display_name": "Python 3 (ipykernel)",
   "language": "python",
   "name": "python3"
  },
  "language_info": {
   "codemirror_mode": {
    "name": "ipython",
    "version": 3
   },
   "file_extension": ".py",
   "mimetype": "text/x-python",
   "name": "python",
   "nbconvert_exporter": "python",
   "pygments_lexer": "ipython3",
   "version": "3.11.6"
  }
 },
 "nbformat": 4,
 "nbformat_minor": 5
}
