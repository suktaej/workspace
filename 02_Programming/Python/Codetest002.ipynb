{
 "cells": [
  {
   "cell_type": "code",
   "execution_count": 7,
   "id": "15a35426-1e2b-4d90-9582-7e3704b425f3",
   "metadata": {},
   "outputs": [
    {
     "data": {
      "text/plain": [
       "[2, 2]"
      ]
     },
     "execution_count": 7,
     "metadata": {},
     "output_type": "execute_result"
    }
   ],
   "source": [
    "## def solution(num_list):\n",
    "    answer = []\n",
    "    even = 0\n",
    "    odd = 0 \n",
    "    for i in range(1,len(num_list)+1):\n",
    "        if i%2==0:\n",
    "            even+=1\n",
    "        else:\n",
    "            odd+=1\n",
    "    answer.append(even)\n",
    "    answer.append(odd)\n",
    "    return answer\n",
    "\n",
    "list1=[1,3,5,7]\n",
    "solution(list1)"
   ]
  },
  {
   "cell_type": "code",
   "execution_count": 24,
   "id": "8e12c85d-475f-45c6-9385-1a7b2369fb08",
   "metadata": {},
   "outputs": [
    {
     "data": {
      "text/plain": [
       "4.0"
      ]
     },
     "execution_count": 24,
     "metadata": {},
     "output_type": "execute_result"
    }
   ],
   "source": [
    "class FourCal:\n",
    "    def __init__(self,first,second):\n",
    "        self.first = first\n",
    "        self.second = second\n",
    "    def setdata(self,first,second):\n",
    "        self.first = first\n",
    "        self.second = second\n",
    "    def add(self):\n",
    "        return self.first + self.second\n",
    "    def mul(self):\n",
    "        return self.first * self.second\n",
    "    def div(self):\n",
    "        return self.first / self.second\n",
    "\n",
    "class MoreFourCal(FourCal):\n",
    "    def pow(self):\n",
    "        return self.first ** self.second\n",
    "\n",
    "a = FourCal(4,1)\n",
    "b = MoreFourCal(10,3)\n",
    "#a.setdata(4,2)\n",
    "#FourCal.setdata(a,8,24)\n",
    "a.div()"
   ]
  },
  {
   "cell_type": "code",
   "execution_count": 26,
   "id": "220dfd4b-6f56-4bd6-b24c-75afac8468d0",
   "metadata": {},
   "outputs": [
    {
     "name": "stdout",
     "output_type": "stream",
     "text": [
      "3\n"
     ]
    }
   ],
   "source": [
    "import mod1\n",
    "print(mod1.add(1,2))"
   ]
  },
  {
   "cell_type": "code",
   "execution_count": 27,
   "id": "2bc97ffa-019c-438f-adb3-45311892ce4d",
   "metadata": {},
   "outputs": [
    {
     "data": {
      "text/plain": [
       "50"
      ]
     },
     "execution_count": 27,
     "metadata": {},
     "output_type": "execute_result"
    }
   ],
   "source": [
    "from mod1 import add\n",
    "add(34,16)"
   ]
  },
  {
   "cell_type": "code",
   "execution_count": 32,
   "id": "51e9d3cc-a2ab-4801-a0b6-8fa9de744d86",
   "metadata": {},
   "outputs": [
    {
     "name": "stdout",
     "output_type": "stream",
     "text": [
      "3.141592\n",
      "12.566368\n",
      "7.5415920000000005\n"
     ]
    }
   ],
   "source": [
    "import mod2\n",
    "print(mod2.PI)\n",
    "\n",
    "a=mod2.Math()\n",
    "print(a.solv(2))\n",
    "print(mod2.add(mod2.PI,4.4))"
   ]
  },
  {
   "cell_type": "code",
   "execution_count": null,
   "id": "53c90038-dbbc-4f83-90a7-16a56070ac56",
   "metadata": {},
   "outputs": [],
   "source": []
  }
 ],
 "metadata": {
  "kernelspec": {
   "display_name": "Python 3 (ipykernel)",
   "language": "python",
   "name": "python3"
  },
  "language_info": {
   "codemirror_mode": {
    "name": "ipython",
    "version": 3
   },
   "file_extension": ".py",
   "mimetype": "text/x-python",
   "name": "python",
   "nbconvert_exporter": "python",
   "pygments_lexer": "ipython3",
   "version": "3.11.6"
  }
 },
 "nbformat": 4,
 "nbformat_minor": 5
}
