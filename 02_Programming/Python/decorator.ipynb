{
 "cells": [
  {
   "cell_type": "code",
   "execution_count": 12,
   "id": "42829a78-d639-4c16-8927-2b877efa5025",
   "metadata": {},
   "outputs": [
    {
     "name": "stdout",
     "output_type": "stream",
     "text": [
      "Function Start!\n",
      "Function run time:0.000050s\n",
      "print:You need Python!\n",
      "Function run time:0.000009s\n"
     ]
    }
   ],
   "source": [
    "import time\n",
    "\n",
    "def elapsed(ori_fun):\n",
    "    #def wrapper():\n",
    "    def wrapper(*args, **kwargs):\n",
    "        start=time.time()\n",
    "        result=ori_fun(*args, **kwargs)\n",
    "        end=time.time()\n",
    "        print(\"Function run time:%fs\"%(end-start))\n",
    "        return result\n",
    "    return wrapper\n",
    "\n",
    "@elapsed\n",
    "def myfunc():\n",
    "    print(\"Function Start!\")\n",
    "\n",
    "@elapsed\n",
    "def secfunc(msg):\n",
    "    print(\"print:%s\" %msg)\n",
    "\n",
    "myfunc()\n",
    "secfunc(\"You need Python!\")\n",
    "#decorated_myfunc=elapsed(myfunc)\n",
    "#decorated_myfunc()"
   ]
  },
  {
   "cell_type": "code",
   "execution_count": 15,
   "id": "0fc8de77-1f8c-4165-ba1a-e8ff15d22678",
   "metadata": {},
   "outputs": [
    {
     "name": "stdout",
     "output_type": "stream",
     "text": [
      "processing\n",
      "processing\n",
      "processing\n",
      "processing\n",
      "processing\n",
      "done\n",
      "processing\n",
      "done\n"
     ]
    }
   ],
   "source": [
    "import time\n",
    "\n",
    "def longtime_job():\n",
    "    print(\"processing\")\n",
    "    time.sleep(1)\n",
    "    return \"done\"\n",
    "\n",
    "list_job = [longtime_job() for i in range(5)]\n",
    "print(list_job[0])\n",
    "\n",
    "gen_job = (longtime_job() for i in range(5))\n",
    "print(next(gen_job))"
   ]
  },
  {
   "cell_type": "code",
   "execution_count": null,
   "id": "8884ae43-2a7b-4b4b-9ebc-708ba028e17c",
   "metadata": {},
   "outputs": [],
   "source": []
  }
 ],
 "metadata": {
  "kernelspec": {
   "display_name": "Python 3 (ipykernel)",
   "language": "python",
   "name": "python3"
  },
  "language_info": {
   "codemirror_mode": {
    "name": "ipython",
    "version": 3
   },
   "file_extension": ".py",
   "mimetype": "text/x-python",
   "name": "python",
   "nbconvert_exporter": "python",
   "pygments_lexer": "ipython3",
   "version": "3.11.6"
  }
 },
 "nbformat": 4,
 "nbformat_minor": 5
}
