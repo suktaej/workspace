{
 "cells": [
  {
   "cell_type": "markdown",
   "metadata": {
    "id": "RbLy1k4ll7hc"
   },
   "source": [
    "# Markdown"
   ]
  },
  {
   "cell_type": "markdown",
   "metadata": {
    "id": "PYDl1tA7mS16"
   },
   "source": [
    "- 코드나 문자를 쓸 수 있는 줄\n",
    "- 셀(cell)\n",
    "- b키를 누르면 아래에 셀이 하나 추가됩니다"
   ]
  },
  {
   "cell_type": "markdown",
   "metadata": {
    "id": "-4B9IRe9maMN"
   },
   "source": [
    "- 마크다운 텍스트를 HTML로 변환하기 위한 도구\n",
    "- README 파일, 블로그 등 문서를 작성하기에 용이\n",
    "- github, notion과 같은 서비스 이용자가 증가하면서 다시 주목 받기 시작\n",
    "- Jupyter Notebook 을 작성하면서 많이 사용하기 때문에 연습합니다"
   ]
  },
  {
   "cell_type": "markdown",
   "metadata": {
    "id": "z-37Tiblmsvu"
   },
   "source": [
    "## 목차\n",
    "- 기본 문자 입력\n",
    "- 제목\n",
    "- 목록\n",
    "- 강조\n",
    "- 링크 연결\n",
    "- 이미지\n",
    "- 코드 블록\n",
    "- 인용문\n",
    "- 수평선\n",
    "- 하이라이트\n",
    "- 체크박스\n",
    "- 표 만들기"
   ]
  },
  {
   "cell_type": "markdown",
   "metadata": {
    "id": "ytnDkDuInEpO"
   },
   "source": [
    "## 1. 기본 문자 입력"
   ]
  },
  {
   "cell_type": "markdown",
   "metadata": {
    "id": "ym8C0dT0nK57"
   },
   "source": [
    "저는 데이터 분석을 공부하고 있습니다.\n",
    "\n",
    "지금은 마크다운에 대해 공부하고 있습니다.\n",
    "다음 내용을 작성하고 싶습니다.<br>\n",
    "라인 브레이크 옵션을 넣어주면 됩니다."
   ]
  },
  {
   "cell_type": "markdown",
   "metadata": {
    "id": "9UZGXmiVnvQ_"
   },
   "source": [
    "## 2. 제목(Heading)"
   ]
  },
  {
   "cell_type": "markdown",
   "metadata": {
    "id": "pK4Z8STBnx5j"
   },
   "source": [
    "# 제목 1\n",
    "## 제목 2\n",
    "### 제목 3\n",
    "#### 제목 4\n",
    "##### 제목 5\n",
    "###### 제목 6"
   ]
  },
  {
   "cell_type": "markdown",
   "metadata": {
    "id": "SkpUNyZfoCk2"
   },
   "source": [
    "## 3. 목록"
   ]
  },
  {
   "cell_type": "markdown",
   "metadata": {
    "id": "lXlJSY4goFcC"
   },
   "source": [
    "- 순서 없는 목록"
   ]
  },
  {
   "cell_type": "markdown",
   "metadata": {
    "id": "IedaIL63oHaT"
   },
   "source": [
    "- 목록 1\n",
    "- 목록 2\n",
    "- 목록 3"
   ]
  },
  {
   "cell_type": "markdown",
   "metadata": {
    "id": "dSsl2UHqoMJj"
   },
   "source": [
    "- 목록 1\n",
    "    - 목록 1-1\n",
    "        - 목록 1-2\n",
    "            - 목록 1-3"
   ]
  },
  {
   "cell_type": "markdown",
   "metadata": {
    "id": "P8C3dZipoSWb"
   },
   "source": [
    "- 목록 1\n",
    "* 목록 2\n",
    "+ 목록 3"
   ]
  },
  {
   "cell_type": "markdown",
   "metadata": {
    "id": "t4qeSnVWoafx"
   },
   "source": [
    "- 순서가 있는 목록"
   ]
  },
  {
   "cell_type": "markdown",
   "metadata": {
    "id": "iP1_eNVrocbD"
   },
   "source": [
    "1. 목록 1\n",
    "2. 목록 2\n",
    "3. 목록 3\n",
    "    1. 목록 3의 1\n",
    "    2. 목록 3의 2\n",
    "4. 목록 4"
   ]
  },
  {
   "cell_type": "markdown",
   "metadata": {
    "id": "B9ZNMhZ1okZb"
   },
   "source": [
    "1)이렇게\n",
    "2)쓰지\n",
    "3)마세요"
   ]
  },
  {
   "cell_type": "markdown",
   "metadata": {
    "id": "Pe9Z-KpDotLa"
   },
   "source": [
    "1. 이렇게\n",
    "2. 쓰기를\n",
    "3. 바랍니다"
   ]
  },
  {
   "cell_type": "markdown",
   "metadata": {
    "id": "gVcCPjqaovUa"
   },
   "source": [
    "## 4. 강조"
   ]
  },
  {
   "cell_type": "markdown",
   "metadata": {
    "id": "r95SwzUiozb0"
   },
   "source": [
    "- 이탤릭체"
   ]
  },
  {
   "cell_type": "markdown",
   "metadata": {
    "id": "WHWrNus1o1qr"
   },
   "source": [
    "_이탤릭체_"
   ]
  },
  {
   "cell_type": "markdown",
   "metadata": {
    "id": "689wTUFRo4gE"
   },
   "source": [
    "*이탤릭체*"
   ]
  },
  {
   "cell_type": "markdown",
   "metadata": {
    "id": "x41NRLIdo60a"
   },
   "source": [
    "- 굵은 글씨 (볼드체)"
   ]
  },
  {
   "cell_type": "markdown",
   "metadata": {
    "id": "BWTvDdbvo8ya"
   },
   "source": [
    "__굵은 글씨__"
   ]
  },
  {
   "cell_type": "markdown",
   "metadata": {
    "id": "yIcryaVMo_Nz"
   },
   "source": [
    "**굵은 글씨**"
   ]
  },
  {
   "cell_type": "markdown",
   "metadata": {
    "id": "OclixK1rpCjR"
   },
   "source": [
    "## 5. 링크 연결"
   ]
  },
  {
   "cell_type": "markdown",
   "metadata": {
    "id": "CCQ6CZ2ppD8q"
   },
   "source": [
    "[네이버](https://www.naver.com/)"
   ]
  },
  {
   "cell_type": "markdown",
   "metadata": {
    "id": "UwogsBpUpOZk"
   },
   "source": [
    "[구글](https://www.google.com/)"
   ]
  },
  {
   "cell_type": "markdown",
   "metadata": {
    "id": "AYOh0gUhpUm2"
   },
   "source": [
    "<https://www.naver.com>"
   ]
  },
  {
   "cell_type": "markdown",
   "metadata": {
    "id": "9t8SDJS2pZLY"
   },
   "source": [
    "<email@google.com>"
   ]
  },
  {
   "cell_type": "markdown",
   "metadata": {
    "id": "WmSm4aG5pcPr"
   },
   "source": [
    "## 6. 이미지"
   ]
  },
  {
   "cell_type": "markdown",
   "metadata": {
    "id": "4BugwxbApfmB"
   },
   "source": [
    "![이미지](data:image/jpeg;base64,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)(https://www.feliway.com/kr/node_40371/8)"
   ]
  },
  {
   "cell_type": "markdown",
   "metadata": {
    "id": "Dl4EHg0mqPiN"
   },
   "source": [
    "## 7. 코드 블록"
   ]
  },
  {
   "cell_type": "markdown",
   "metadata": {
    "id": "zvY_k7bNqRqR"
   },
   "source": [
    "- 영문 상태\n",
    "- 키보드 상단 숫자 1키 왼쪽\n",
    "- (`) backtick\n",
    "- 코드 블록을 작성할 때 1개 또는 3개의 백틱을 사용해서 코드를 표시합니다"
   ]
  },
  {
   "cell_type": "code",
   "execution_count": 1,
   "metadata": {
    "colab": {
     "base_uri": "https://localhost:8080/"
    },
    "executionInfo": {
     "elapsed": 511,
     "status": "ok",
     "timestamp": 1714978211264,
     "user": {
      "displayName": "yongha cho",
      "userId": "15325498543295370565"
     },
     "user_tz": -540
    },
    "id": "1m6_n-kwqo6C",
    "outputId": "256c42aa-1e2c-4926-af55-f25a53507a94"
   },
   "outputs": [
    {
     "name": "stdout",
     "output_type": "stream",
     "text": [
      "Hi\n"
     ]
    }
   ],
   "source": [
    "# 파이썬 코드\n",
    "print('Hi')"
   ]
  },
  {
   "cell_type": "markdown",
   "metadata": {
    "id": "0YndpxVCqsFc"
   },
   "source": [
    "print('마크다운 테스트')"
   ]
  },
  {
   "cell_type": "markdown",
   "metadata": {
    "id": "K00nTW6Hq0IZ"
   },
   "source": [
    "`print('마크다운 테스트')`"
   ]
  },
  {
   "cell_type": "markdown",
   "metadata": {
    "id": "LZOS7jleq4-Z"
   },
   "source": [
    "```python\n",
    "# 글자를 출력하는 함수\n",
    "print('hi')\n",
    "```"
   ]
  },
  {
   "cell_type": "markdown",
   "metadata": {
    "id": "hl1G38yurZrv"
   },
   "source": [
    "## 8. Blockquotes"
   ]
  },
  {
   "cell_type": "markdown",
   "metadata": {
    "id": "Qn_0n5Abrf3h"
   },
   "source": [
    "> AI 서비스 개발 3개월 프로젝트\n",
    ">\n",
    ">> 프로토타입 개발 기간 1개월"
   ]
  },
  {
   "cell_type": "markdown",
   "metadata": {
    "id": "Ci7R8XevrshR"
   },
   "source": [
    "> #### 혼합 인용문!\n",
    ">\n",
    "> - 데이터 분석 프로젝트\n",
    "> - 나만의 주제를 찾아보자!\n",
    ">\n",
    "> *재밌는* 주제면 **좋겠어요!**."
   ]
  },
  {
   "cell_type": "markdown",
   "metadata": {
    "id": "SK_chs6ir6Qo"
   },
   "source": [
    "## 9. 수평선"
   ]
  },
  {
   "cell_type": "markdown",
   "metadata": {
    "id": "qpLXZ4Nfr8yQ"
   },
   "source": [
    "---"
   ]
  },
  {
   "cell_type": "markdown",
   "metadata": {
    "id": "9QCgejwbr_w2"
   },
   "source": [
    "***"
   ]
  },
  {
   "cell_type": "markdown",
   "metadata": {
    "id": "_5uq8XLUsAp5"
   },
   "source": [
    "___"
   ]
  },
  {
   "cell_type": "markdown",
   "metadata": {
    "id": "uvqsIkqSsE6P"
   },
   "source": [
    "글을 한 줄 쓴 다음에 꼭 한 칸 공백이 있어야 합니다\n",
    "\n",
    "---\n",
    "\n",
    "제대로 표기 되는 확인"
   ]
  },
  {
   "cell_type": "markdown",
   "metadata": {
    "id": "sYMYjFVxsLnu"
   },
   "source": [
    "## 10. Highlight"
   ]
  },
  {
   "cell_type": "markdown",
   "metadata": {
    "id": "W4yHrw4lsQZj"
   },
   "source": [
    "이 글 내용 중 <mark>중요한 부분</mark> 입니다."
   ]
  },
  {
   "cell_type": "markdown",
   "metadata": {
    "id": "IQOcAB3CscGW"
   },
   "source": [
    "## 11. Task Lists"
   ]
  },
  {
   "cell_type": "markdown",
   "metadata": {
    "id": "bIPgKPTBsf8f"
   },
   "source": [
    "- [ ] 할 일을 했으면 체크해주세요\n",
    "- [x] 할 일을 했나요?"
   ]
  },
  {
   "cell_type": "markdown",
   "metadata": {
    "id": "W-M8WYB7sx9V"
   },
   "source": [
    "## 12. Table"
   ]
  },
  {
   "cell_type": "markdown",
   "metadata": {
    "id": "O8efm_k1sz03"
   },
   "source": [
    "- 첫 번째 행은 표의 헤더를 나타냅니다\n",
    "- 두 번째 행은 각 컬럼을 구분하는 역할을 합니다\n",
    "    - 대시(-)를 사용하여 각 컬럼의 헤더 아래에 구분선을 만듭니다\n",
    "- 세 번째 행부터는 실제 표의 내용을 입력합니다.\n",
    "- 엔터키 하나 위에 있는 키\n",
    "- 쉬프트 키 같이 누르기\n",
    "- | 파이프"
   ]
  },
  {
   "cell_type": "markdown",
   "metadata": {
    "id": "QVxz88mttBSt"
   },
   "source": [
    "| 헤더 1 | 헤더 2 | 헤더 3|\n",
    "|---|---|---|\n",
    "|내용1|내용2|내용3|"
   ]
  },
  {
   "cell_type": "markdown",
   "metadata": {
    "id": "uGGVTpZmtaEg"
   },
   "source": [
    "|왼쪽 정렬|가운데 정렬|오른쪽 정렬|\n",
    "|:---|:---:|---:|\n",
    "|내용1|내용2|내용3|"
   ]
  },
  {
   "cell_type": "markdown",
   "metadata": {
    "id": "Vht8ykO3tikC"
   },
   "source": [
    "| col1   | col2   | col3   |   |   |\n",
    "|--------|--------|--------|---|---|\n",
    "| value1 | value2 | value3 |   |   |\n",
    "|        |        |        |   |   |\n",
    "|        |        |        |   |   |"
   ]
  },
  {
   "cell_type": "markdown",
   "metadata": {
    "id": "jK__iznOt6JX"
   },
   "source": [
    "## 13. 취소선"
   ]
  },
  {
   "cell_type": "markdown",
   "metadata": {
    "id": "LQX2dAEht8-M"
   },
   "source": [
    "~~이 건은 취소 입니다~~"
   ]
  },
  {
   "cell_type": "markdown",
   "metadata": {
    "id": "ANJ7EHmEwPNd"
   },
   "source": [
    "---"
   ]
  },
  {
   "cell_type": "markdown",
   "metadata": {
    "id": "83UuTddZwQdE"
   },
   "source": [
    "# 데이터 분석\n",
    "\n",
    "데이터 분석은 **정보**를 추출하고 __의사결정__에 활용할 수 있는 <mark>인사이트를 도출</mark>하기 위한 과정입니다.\n",
    "\n",
    "---\n",
    "\n",
    "## 데이터 수집\n",
    "\n",
    "데이터 수집은 분석의 첫 단계입니다.\n",
    "\n",
    "- 웹 스크래핑\n",
    "- 설문조사\n",
    "- 로그 파일 분석\n",
    "- API 활용\n",
    "- ~~남의 데이터 그냥 가져오기~~\n",
    "\n",
    "---\n",
    "\n",
    "## 데이터 전처리\n",
    "\n",
    "데이터가 수집되면 **전처리** 단계를 거칩니다.\n",
    "\n",
    "1. 결측치 처리\n",
    "2. 이상치 탐지 및 제거\n",
    "3. 데이터 정규화\n",
    "4. 피처 엔지니어링\n",
    "\n",
    "> **Note:** 데이터 전처리는 분석의 품질을 결정하는 중요한 단계입니다.\n",
    "\n",
    "---\n",
    "\n",
    "## 데이터 분석 도구\n",
    "\n",
    "데이터 분석에는 다양한 도구가 사용됩니다\n",
    "\n",
    "- [x] **Python**: [Numpy](https://numpy.org/doc/1.26/user/absolute_beginners.html), [Pandas](https://pandas.pydata.org/docs/getting_started/index.html#getting-started)\n",
    "- [ ] **R**\n",
    "- [ ] **SQL**\n",
    "- [ ] **Excel**\n",
    "\n",
    "---\n",
    "\n",
    "### 프로젝트 중 사용한 주요 코드\n",
    "\n",
    "```python\n",
    "def add_numbers(a, b):\n",
    "    \"\"\"두 숫자를 더하는 함수\"\"\"\n",
    "    return a + b\n",
    "\n",
    "result = add_numbers(5, 3)\n",
    "print(result)\n",
    "```\n",
    "\n",
    "### 파이썬 추천 도서\n",
    "- [점프투파이썬](https://wikidocs.net/book/1)\n",
    "\n",
    "![점프투파이썬](https://wikidocs.net/images//book/j2p_cover_4pwFNUD_Lirmdrv_U1UQjo8_e0LkdJf_RfBYr9e_HuNZjDQ_GPEKYKk_TiflQiw_bpi6gBP_c_5JHGBkJ.jpg)\n",
    "\n",
    "> 이 책은 파이썬이란 언어를 처음 접해보는 독자들과 프로그래밍을 한 번도 해 본적이 없는 사람들을 대상으로 한다. 프로그래밍을 할 때 사용되는 전문적인 용어들을 알기 쉽게 풀어서 쓰려고 노력하였으며, 파이썬이란 언어의 개별적인 특성만을 강조하지 않고 프로그래밍 전반에 관한 사항을 파이썬이란 언어를 통해 알 수 있도록 알기 쉽게 설명하였다.\n",
    ">\n",
    "> 파이썬에 대한 기본적인 지식을 알고 있는 사람이라도 이 책은 파이썬 프로그래밍에 대한 흥미를 가질 수 있는 좋은 안내서가 될 것이다. 이 책의 목표는 독자가 파이썬을 통해 프로그래밍에 대한 전반적인 이해를 갖게하는 것이며, 또 파이썬이라는 도구를 이용하여 원하는 프로그램을 쉽고 재미있게 만들 수 있게 하는 것이다.\n",
    "\n",
    "---\n",
    "\n",
    "## 시각화\n",
    "\n",
    "분석결과를 이해하기 쉽게 표현하기 위해 **시각화**를 활용합니다.\n",
    "\n",
    "![데이터시각화예시](https://matplotlib.org/stable/_images/sphx_glr_csd_demo_001.png)\n",
    "\n",
    "---\n",
    "\n",
    "## 데이터 분석 주요 내용 정리\n",
    "\n",
    "| 단계 | 설명 | 도구/기술 |\n",
    "|-----|-----|--------|\n",
    "|데이터 수집|데이터를 모으는 과정|웹스크래핑, 설문조사, 로그파일, API|\n",
    "|데이터 전처리|데이터를 분석에 적합하게 가공하는 과정|결측치처리, 이상치 제거, 정규화, 피처 엔지니어링|\n",
    "|데이터 분석|데이터에서 유용한 정보를 추출하는 과정|통계분석, 머신러닝, 딥러닝|\n",
    "|시각화|분서 결과를 그래프나 차트로 표현|matplotlib, seaborn, tableau, looker|\n",
    "|결과해석|시각화된 결과를 해석하여 인사이트 도출|기업 전략, 의사결정|\n",
    "\n",
    "---\n",
    "\n",
    "## 결론\n",
    "\n",
    "데이터 분석은 기업의 성장과 발전에 중요한 역할을 합니다. 정확한 분석을 위해 다양한 도구와 기술을 활용해야 합니다.\n",
    "\n",
    "데이터 분석에 대한 더 많은 정보는 🔥 [stackoverflow](https://stackoverflow.com/)에서 확인해주세요! 🙏\n"
   ]
  },
  {
   "cell_type": "code",
   "execution_count": null,
   "metadata": {
    "id": "nI8Ruh3lwfsx"
   },
   "outputs": [],
   "source": [
    "|"
   ]
  }
 ],
 "metadata": {
  "colab": {
   "authorship_tag": "ABX9TyNaHVHr8XXt+meztqKsLL94",
   "provenance": []
  },
  "kernelspec": {
   "display_name": "Python 3 (ipykernel)",
   "language": "python",
   "name": "python3"
  },
  "language_info": {
   "codemirror_mode": {
    "name": "ipython",
    "version": 3
   },
   "file_extension": ".py",
   "mimetype": "text/x-python",
   "name": "python",
   "nbconvert_exporter": "python",
   "pygments_lexer": "ipython3",
   "version": "3.11.6"
  }
 },
 "nbformat": 4,
 "nbformat_minor": 4
}
