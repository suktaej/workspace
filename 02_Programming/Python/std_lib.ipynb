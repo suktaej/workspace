{
 "cells": [
  {
   "cell_type": "code",
   "execution_count": 3,
   "id": "811dd780-7dd7-4570-b95b-5dd9e524735b",
   "metadata": {},
   "outputs": [
    {
     "name": "stdout",
     "output_type": "stream",
     "text": [
      "485 days, 0:00:00\n",
      "0\n"
     ]
    }
   ],
   "source": [
    "import datetime\n",
    "day1 = datetime.date(2021,12,13)\n",
    "day2 = datetime.date(2023,4,12)\n",
    "\n",
    "diff = day2-day1\n",
    "print(diff)\n",
    "print(day1.weekday())"
   ]
  },
  {
   "cell_type": "code",
   "execution_count": 9,
   "id": "fa397df0-1a5c-4bbe-abd9-7c9f5b808fb9",
   "metadata": {},
   "outputs": [
    {
     "data": {
      "text/plain": [
       "'Sun May 26 06:36:11 2024'"
      ]
     },
     "execution_count": 9,
     "metadata": {},
     "output_type": "execute_result"
    }
   ],
   "source": [
    "import time\n",
    "time.asctime(time.localtime(time.time()))\n",
    "time.ctime()"
   ]
  },
  {
   "cell_type": "code",
   "execution_count": 11,
   "id": "d2d3fb5d-dc41-406c-a17a-414a74e3d1be",
   "metadata": {},
   "outputs": [
    {
     "data": {
      "text/plain": [
       "['/home/jovyan/work/game',\n",
       " '/home/jovyan/work/mod2.py',\n",
       " '/home/jovyan/work/mymod',\n",
       " '/home/jovyan/work/try_except.ipynb',\n",
       " '/home/jovyan/work/test.txt',\n",
       " '/home/jovyan/work/Codetest001.ipynb',\n",
       " '/home/jovyan/work/test02',\n",
       " '/home/jovyan/work/std_lib.ipynb',\n",
       " '/home/jovyan/work/hello.txt',\n",
       " '/home/jovyan/work/__pycache__',\n",
       " '/home/jovyan/work/ModeTest.ipynb',\n",
       " '/home/jovyan/work/Codetset002.ipynb',\n",
       " '/home/jovyan/work/built_in.ipynb']"
      ]
     },
     "execution_count": 11,
     "metadata": {},
     "output_type": "execute_result"
    }
   ],
   "source": [
    "import glob\n",
    "glob.glob(\"/home/jovyan/work/*\")"
   ]
  },
  {
   "cell_type": "code",
   "execution_count": 18,
   "id": "045c9eed-0d38-4352-b9cb-daedb4472603",
   "metadata": {},
   "outputs": [
    {
     "name": "stdout",
     "output_type": "stream",
     "text": [
      "{1: 'python', 2: 'java'}\n"
     ]
    }
   ],
   "source": [
    "import pickle\n",
    "f= open(\"test.txt\",'wb')\n",
    "data = {1:'python',2:'java'}\n",
    "pickle.dump(data,f)\n",
    "f.close()\n",
    "\n",
    "op=open(\"test.txt\",\"rb\")\n",
    "print(pickle.load(op))\n",
    "op.close()"
   ]
  }
 ],
 "metadata": {
  "kernelspec": {
   "display_name": "Python 3 (ipykernel)",
   "language": "python",
   "name": "python3"
  },
  "language_info": {
   "codemirror_mode": {
    "name": "ipython",
    "version": 3
   },
   "file_extension": ".py",
   "mimetype": "text/x-python",
   "name": "python",
   "nbconvert_exporter": "python",
   "pygments_lexer": "ipython3",
   "version": "3.11.6"
  }
 },
 "nbformat": 4,
 "nbformat_minor": 5
}
