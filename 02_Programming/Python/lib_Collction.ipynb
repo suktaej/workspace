{
 "cells": [
  {
   "cell_type": "code",
   "execution_count": 1,
   "id": "b1a0f7a1-76d7-4411-9c63-3e63a538f1ef",
   "metadata": {},
   "outputs": [],
   "source": [
    "from collections import Counter"
   ]
  },
  {
   "cell_type": "code",
   "execution_count": 20,
   "id": "228ae273-015b-41bb-bf3b-e3b9882fd5c1",
   "metadata": {},
   "outputs": [
    {
     "name": "stdout",
     "output_type": "stream",
     "text": [
      "Counter({'a': 4, 'b': 2, 'c': 1})\n",
      "Counter({'a': 5, 'b': 3, 'd': 1})\n",
      "Counter({'b': 3, 'a': 2, 'd': 1})\n",
      "Counter({'a': 5, 'c': 3, 'd': 3, 'b': 2})\n",
      "\n",
      "Counter({'a': 9, 'b': 5, 'c': 1, 'd': 1})\n",
      "Counter({'c': 1})\n",
      "Counter({'a': 2, 'b': 2})\n",
      "Counter({'a': 5, 'c': 3, 'd': 3, 'b': 2})\n",
      "\n",
      "False\n",
      "True\n",
      "\n",
      "9\n",
      "dict_items([('a', 5), ('b', 3), ('d', 1)])\n",
      "dict_keys(['a', 'b', 'd'])\n",
      "dict_values([5, 3, 1])\n",
      "\n",
      "['a', 'a', 'a', 'a', 'a', 'b', 'b', 'b', 'd']\n",
      "[('a', 5), ('b', 3)]\n",
      "5\n",
      "5\n"
     ]
    }
   ],
   "source": [
    "cnt1 = Counter(['a','a','a','b','b','c','a'])\n",
    "cnt2 = Counter({'a':5,'b':3,'d':1})\n",
    "cnt3 = Counter(\"aabbbd\")\n",
    "cnt4 = Counter(a=5,b=2,c=3,d=3)\n",
    "\n",
    "print(cnt1)\n",
    "print(cnt2)\n",
    "print(cnt3)\n",
    "print(cnt4)\n",
    "print()\n",
    "\n",
    "print(cnt1+cnt2)\n",
    "print(cnt1-cnt2)\n",
    "print(cnt1&cnt3)\n",
    "print(cnt1|cnt4)\n",
    "print()\n",
    "\n",
    "print(cnt1>=cnt2)\n",
    "print(cnt2>cnt3)\n",
    "print()\n",
    "\n",
    "print(cnt2.total())\n",
    "print(cnt2.items())\n",
    "print(cnt2.keys())\n",
    "print(cnt2.values())\n",
    "print()\n",
    "\n",
    "print(list(cnt2.elements()))\n",
    "print(cnt2.most_common(2))\n",
    "print(cnt2.get('a'))\n",
    "print(cnt2['a'])"
   ]
  },
  {
   "cell_type": "code",
   "execution_count": 22,
   "id": "09f7c666-b331-4596-b099-8a5a33300fd0",
   "metadata": {},
   "outputs": [
    {
     "name": "stdout",
     "output_type": "stream",
     "text": [
      "2 char with high frequency of appearances: ['a', 'b']\n"
     ]
    }
   ],
   "source": [
    "def func1(s, k):\n",
    "    cnt = Counter(s)\n",
    "    sort_cnt = sorted(cnt.items(), key = lambda x:x[1], reverse=True)\n",
    "    top_k = sort_cnt[:k]\n",
    "    return [char for char, _ in top_k]\n",
    "\n",
    "str1='aaaaaabbbcd'\n",
    "n=2\n",
    "print(f'{n} char with high frequency of appearances:', func1(str1,n)) "
   ]
  },
  {
   "cell_type": "code",
   "execution_count": null,
   "id": "0f6f554c-3cad-4c11-800e-5916ecc2096d",
   "metadata": {},
   "outputs": [],
   "source": []
  }
 ],
 "metadata": {
  "kernelspec": {
   "display_name": "Python 3 (ipykernel)",
   "language": "python",
   "name": "python3"
  },
  "language_info": {
   "codemirror_mode": {
    "name": "ipython",
    "version": 3
   },
   "file_extension": ".py",
   "mimetype": "text/x-python",
   "name": "python",
   "nbconvert_exporter": "python",
   "pygments_lexer": "ipython3",
   "version": "3.11.6"
  }
 },
 "nbformat": 4,
 "nbformat_minor": 5
}
