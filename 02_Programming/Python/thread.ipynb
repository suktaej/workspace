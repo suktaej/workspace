{
 "cells": [
  {
   "cell_type": "code",
   "execution_count": 2,
   "id": "087edcf0-01fd-4e20-af7b-4178dd6e9728",
   "metadata": {},
   "outputs": [
    {
     "name": "stdout",
     "output_type": "stream",
     "text": [
      "Start\n",
      "wroking:0\n",
      "\n",
      "wroking:0\n",
      "\n",
      "wroking:0\n",
      "\n",
      "wroking:0\n",
      "\n",
      "wroking:0\n",
      "\n",
      "wroking:1\n",
      "\n",
      "wroking:1\n",
      "\n",
      "wroking:1\n",
      "\n",
      "wroking:1\n",
      "\n",
      "wroking:1\n",
      "\n",
      "wroking:2\n",
      "\n",
      "wroking:2\n",
      "\n",
      "wroking:2\n",
      "\n",
      "wroking:2\n",
      "\n",
      "wroking:2\n",
      "\n",
      "wroking:3\n",
      "\n",
      "wroking:3\n",
      "\n",
      "wroking:3\n",
      "\n",
      "wroking:3\n",
      "\n",
      "wroking:3\n",
      "\n",
      "wroking:4\n",
      "\n",
      "wroking:4\n",
      "\n",
      "wroking:4\n",
      "\n",
      "wroking:4\n",
      "\n",
      "wroking:4\n",
      "\n",
      "End\n"
     ]
    }
   ],
   "source": [
    "import time\n",
    "import threading\n",
    "def long_task():\n",
    "    for i in range(5):\n",
    "        time.sleep(1)\n",
    "        print(\"wroking:%s\\n\"%i)\n",
    "\n",
    "print(\"Start\")\n",
    "\n",
    "threads = []\n",
    "for i in range(5):\n",
    "    #long_task()\n",
    "    t = threading.Thread(target=long_task)\n",
    "    threads.append(t)\n",
    "\n",
    "for t in threads:\n",
    "    t.start()\n",
    "\n",
    "for t in threads:\n",
    "    t.join()\n",
    "\n",
    "print(\"End\")"
   ]
  },
  {
   "cell_type": "code",
   "execution_count": null,
   "id": "79e7ec45-25f5-4672-9164-cff6d5e977b5",
   "metadata": {},
   "outputs": [],
   "source": []
  }
 ],
 "metadata": {
  "kernelspec": {
   "display_name": "Python 3 (ipykernel)",
   "language": "python",
   "name": "python3"
  },
  "language_info": {
   "codemirror_mode": {
    "name": "ipython",
    "version": 3
   },
   "file_extension": ".py",
   "mimetype": "text/x-python",
   "name": "python",
   "nbconvert_exporter": "python",
   "pygments_lexer": "ipython3",
   "version": "3.11.6"
  }
 },
 "nbformat": 4,
 "nbformat_minor": 5
}
